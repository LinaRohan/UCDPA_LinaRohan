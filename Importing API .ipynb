{
 "cells": [
  {
   "cell_type": "code",
   "execution_count": 24,
   "id": "4c95c472",
   "metadata": {},
   "outputs": [
    {
     "name": "stdout",
     "output_type": "stream",
     "text": [
      "Lithuania ( (listen); Lithuanian: Lietuva [lʲɪɛtʊˈvɐ]), officially the Republic of Lithuania (Lithuanian: Lietuvos Respublika [lʲɪɛtʊˈvoːs rʲɛsˈpʊblʲɪkɐ]), is a country in the Baltic region of Europe.\n"
     ]
    }
   ],
   "source": [
    "import requests\n",
    "import pandas as pd\n",
    "\n",
    "# 1. importing data from EAI API:\n",
    "#API Query Browser link: https://www.eia.gov/opendata/v1/qb.php?category=2889994&sdid=NUC_STATUS.OUT.US.D\n",
    "data=requests.get('http://api.eia.gov/series/?api_key=YOUR_API_KEY_HERE&series_id=NUC_STATUS.OUT.US.D')\n",
    "ALL=data.json()\n",
    "\n",
    "pd.DataFrame(ALL)\n",
    "\n",
    "# Doesnt really work, I dont know why.\n",
    "\n",
    "#2. Wikipedia API displaying requested search \n",
    "\n",
    "subject = 'Lithuania'\n",
    "url = 'https://en.wikipedia.org/w/api.php'\n",
    "params = {\n",
    "        'action': 'query',\n",
    "        'format': 'json',\n",
    "        'titles': subject,\n",
    "        'prop': 'extracts',\n",
    "        'exintro': True,\n",
    "        'explaintext': True,\n",
    "    }\n",
    " \n",
    "response = requests.get(url, params=params)\n",
    "data = response.json()\n",
    " \n",
    "page = next(iter(data['query']['pages'].values()))\n",
    "print(page['extract'][:200])"
   ]
  },
  {
   "cell_type": "code",
   "execution_count": 41,
   "id": "75488c9d",
   "metadata": {},
   "outputs": [
    {
     "name": "stdout",
     "output_type": "stream",
     "text": [
      "<bound method NDFrame.keys of                                                 data  \\\n",
      "0  {'ID Nation': '01000US', 'Nation': 'United Sta...   \n",
      "\n",
      "                                              source  \n",
      "0  {'measures': ['Population'], 'annotations': {'...  >\n",
      "[[{'ID Nation': '01000US', 'Nation': 'United States', 'ID Year': 2020, 'Year': '2020', 'Population': 326569308, 'Slug Nation': 'united-states'}\n",
      "  {'measures': ['Population'], 'annotations': {'source_name': 'Census Bureau', 'source_description': 'The American Community Survey (ACS) is conducted by the US Census and sent to a portion of the population every year.', 'dataset_name': 'ACS 5-year Estimate', 'dataset_link': 'http://www.census.gov/programs-surveys/acs/', 'table_id': 'B01003', 'topic': 'Diversity', 'subtopic': 'Demographics'}, 'name': 'acs_yg_total_population_5', 'substitutions': []}]]\n"
     ]
    }
   ],
   "source": [
    "#3. USA data free API\n",
    "#https://datausa.io/about/api/\n",
    "usa_data=pd.DataFrame(requests.get('https://datausa.io/api/data?drilldowns=Nation&measures=Population&year=latest').json()).head()\n",
    "print(usa_data.keys)\n",
    "print(usa_data.values)"
   ]
  },
  {
   "cell_type": "code",
   "execution_count": null,
   "id": "063a9bf7",
   "metadata": {},
   "outputs": [],
   "source": []
  }
 ],
 "metadata": {
  "kernelspec": {
   "display_name": "Python 3",
   "language": "python",
   "name": "python3"
  },
  "language_info": {
   "codemirror_mode": {
    "name": "ipython",
    "version": 3
   },
   "file_extension": ".py",
   "mimetype": "text/x-python",
   "name": "python",
   "nbconvert_exporter": "python",
   "pygments_lexer": "ipython3",
   "version": "3.8.8"
  }
 },
 "nbformat": 4,
 "nbformat_minor": 5
}
